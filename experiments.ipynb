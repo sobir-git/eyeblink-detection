{
 "cells": [
  {
   "cell_type": "code",
   "execution_count": 1,
   "metadata": {},
   "outputs": [],
   "source": [
    "import numpy as np\n",
    "import json\n",
    "import matplotlib.pyplot as plt\n",
    "from signal_preprocessing import MedianFilter, SGFilter, MedianBaselineCorrector\n",
    "import pandas as pd"
   ]
  },
  {
   "cell_type": "code",
   "execution_count": 2,
   "metadata": {
    "scrolled": true
   },
   "outputs": [],
   "source": [
    "def load_data(filename):\n",
    "    with open(os.path.join('data', filename)) as f:\n",
    "        content = json.load(f)\n",
    "        data = content['data']\n",
    "        timestamps = content['timestamps']\n",
    "        df = pd.DataFrame(data, index=timestamps['ear'])\n",
    "        df = -df\n",
    "        df.index -= df.index[0]\n",
    "        fps = len(df)/(df.index[-1]-df.index[0])\n",
    "        print('fps:', fps)\n",
    "        df['ear+adr'] = df['ear'] + df['adr']\n",
    "        df['ear+adr+vd'] = df['ear'] / df['ear']/np.linalg.norm(df['ear']) + \\\n",
    "            df['adr']/np.linalg.norm(df['adr']) +\\\n",
    "            df['vd']/np.linalg.norm(df['vd'])\n",
    "    return df"
   ]
  },
  {
   "cell_type": "code",
   "execution_count": 3,
   "metadata": {},
   "outputs": [],
   "source": [
    "from scipy import signal\n",
    "\n",
    "\n",
    "class BasicPeakFinder():\n",
    "    def __init__(self, time_window_length):\n",
    "        self.time_window_length = time_window_length\n",
    "\n",
    "    @staticmethod\n",
    "    def slide_time_windows(timestamps, window_length):\n",
    "        '''Slide time windows and return tuples (start_index, end_index) \n",
    "        for which timestamps[start_index:end_index] is in the window_length'''\n",
    "\n",
    "        if len(timestamps) == 0:\n",
    "            return \n",
    "\n",
    "        start_index = 0\n",
    "        end_index = 1\n",
    "        prev_end_index = 0\n",
    "\n",
    "        while end_index < len(timestamps):\n",
    "            # move end_index to the end\n",
    "            while end_index < len(timestamps) and timestamps[end_index] - timestamps[start_index] <= window_length:\n",
    "                end_index += 1\n",
    "\n",
    "            if end_index > prev_end_index:\n",
    "                yield (start_index, end_index)\n",
    "                prev_end_index = end_index\n",
    "\n",
    "            # step start_index\n",
    "            start_index += 1\n",
    "    \n",
    "    def find(self, x, y):\n",
    "        peaks = []\n",
    "        props = {}\n",
    "        last_peak_index = -1\n",
    "        for start_index, end_index in BasicPeakFinder.slide_time_windows(x, self.time_window_length):\n",
    "            y_window = y[start_index:end_index]\n",
    "            peak_index = start_index + np.argmax(y_window)\n",
    "            if peak_index > last_peak_index:\n",
    "                peaks.append(peak_index)\n",
    "                last_peak_index = peak_index\n",
    "        return (peaks, props)\n",
    "\n",
    "\n",
    "class ScipyPeakFinder():\n",
    "    def __init__(self, **kwargs):\n",
    "        self.kwargs = kwargs\n",
    "\n",
    "    def find(self, x, y):\n",
    "        return signal.find_peaks(y, **self.kwargs)\n"
   ]
  },
  {
   "cell_type": "code",
   "execution_count": 11,
   "metadata": {
    "scrolled": false
   },
   "outputs": [
    {
     "data": {
      "application/vnd.jupyter.widget-view+json": {
       "model_id": "bcfa62d54ee74d528b33702d769a1784",
       "version_major": 2,
       "version_minor": 0
      },
      "text/plain": [
       "interactive(children=(IntSlider(value=5, description='medfiltsize', max=15, min=1, step=2), IntSlider(value=7,…"
      ]
     },
     "metadata": {},
     "output_type": "display_data"
    }
   ],
   "source": [
    "from blink_detector import PeakFinder, plot_peaks\n",
    "from ipywidgets import interact, interactive, fixed, interact_manual, widgets\n",
    "import os\n",
    "\n",
    "@interact(medfiltsize=widgets.IntSlider(min=1, max=15, step=2, value=5), \n",
    "          sg_window_length=widgets.IntSlider(min=1, max=15, step=2, value=7), \n",
    "          sg_polyorder=widgets.IntSlider(min=0, max=15, step=1, value=2),\n",
    "          med_bc_window_length=widgets.IntSlider(min=1, max=33, step=2, value=31),\n",
    "          pf_prominence=widgets.FloatSlider(min=-0.1, max=1, step=0.01, value=0.03),\n",
    "          pf_min_width=widgets.IntSlider(min=1, max=30, value=3),\n",
    "          pf_max_width=widgets.IntSlider(min=1, max=30, value=16),\n",
    "          pf_wlen=widgets.IntSlider(min=3, max=66, value=29),\n",
    "        )\n",
    "def plot(medfiltsize, sg_window_length, sg_polyorder, med_bc_window_length, \n",
    "         pf_prominence, pf_wlen, pf_min_width, pf_max_width, column=['adr', 'ear', 'vd'], \n",
    "         sg_filter=True, med_filter=False, baseline_correction=True,\n",
    "         filename=os.listdir('data') ):\n",
    "    # create filters\n",
    "    preps = []\n",
    "    if med_filter:\n",
    "        preps.append(MedianFilter(filtersize=medfiltsize))\n",
    "    if sg_filter:\n",
    "        preps.append(SGFilter(sg_window_length, sg_polyorder))\n",
    "    if baseline_correction:\n",
    "        preps.append(MedianBaselineCorrector(med_bc_window_length))\n",
    "\n",
    "    # load data\n",
    "    df = load_data(filename)\n",
    "    df = df.iloc[:60]\n",
    "\n",
    "    # get the data\n",
    "    y = df[column].values[:]\n",
    "    x = df.index[:]\n",
    "    \n",
    "    fig = plt.figure(0, figsize=(len(df)/10, 6))\n",
    "        \n",
    "    # preprocess data\n",
    "    for p in preps:\n",
    "        y = p.apply(y)\n",
    "    \n",
    "    \n",
    "    # plot data\n",
    "    plt.plot(x, y, label=column)\n",
    "\n",
    "    # plot peaks\n",
    "    if pf_prominence < 0:\n",
    "        pf_prominence = np.std(y) * 3\n",
    "        print('pf_prominance:', pf_prominence)\n",
    "\n",
    "    peak_finder = PeakFinder(prominence=pf_prominence, wlen=pf_wlen, rel_height=0.5, \n",
    "                             width=(pf_min_width, pf_max_width))\n",
    "    \n",
    "    peaks, props = peak_finder.find(x, y)\n",
    "    print(peaks, props)\n",
    "    plot_peaks(peaks, props, x, y)\n",
    "    print(\"Number of peaks:\", len(peaks))\n",
    "\n",
    "    plt.legend()\n",
    "    plt.xticks(range(int(x[-1] + 1)))\n",
    "    \n"
   ]
  },
  {
   "cell_type": "code",
   "execution_count": null,
   "metadata": {},
   "outputs": [],
   "source": []
  }
 ],
 "metadata": {
  "kernelspec": {
   "display_name": "Python 3",
   "language": "python",
   "name": "python3"
  },
  "language_info": {
   "codemirror_mode": {
    "name": "ipython",
    "version": 3
   },
   "file_extension": ".py",
   "mimetype": "text/x-python",
   "name": "python",
   "nbconvert_exporter": "python",
   "pygments_lexer": "ipython3",
   "version": "3.6.9"
  }
 },
 "nbformat": 4,
 "nbformat_minor": 2
}
